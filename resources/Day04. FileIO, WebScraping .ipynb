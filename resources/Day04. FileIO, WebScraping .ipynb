{
 "cells": [
  {
   "cell_type": "markdown",
   "metadata": {},
   "source": [
    "# Hackerrank Day0: Mean, Median, Mode\n",
    "\n",
    "```\n",
    "n = int(input())\n",
    "nums = [int(num) for num in input().split()]\n",
    "\n",
    "mean = sum(nums) / n\n",
    "\n",
    "sorted_nums = sorted(nums)\n",
    "\n",
    "half_of_n = n // 2\n",
    "if n % 2 == 0:\n",
    "    median = (sorted_nums[half_of_n - 1] + sorted_nums[half_of_n]) / 2\n",
    "else:\n",
    "    median = sorted_nums[half_of_n]\n",
    "    \n",
    "cmp = 0\n",
    "\n",
    "for num in sorted_nums:\n",
    "    if sorted_nums.count(num) > cmp:\n",
    "        cmp = sorted_nums.count(num)\n",
    "        temp_mode = num\n",
    "\n",
    "if cmp == 1:\n",
    "    mode = sorted_nums[0]\n",
    "else:\n",
    "    mode = temp_mode\n",
    "\n",
    "print(mean)\n",
    "print(median)\n",
    "print(mode)\n",
    "```"
   ]
  },
  {
   "cell_type": "code",
   "execution_count": 2,
   "metadata": {
    "collapsed": true
   },
   "outputs": [],
   "source": [
    "f = open('./Newfile.txt', 'w')\n",
    "f.close()"
   ]
  },
  {
   "cell_type": "code",
   "execution_count": 3,
   "metadata": {
    "collapsed": true
   },
   "outputs": [],
   "source": [
    "f = open('../Anotherfile.txt', 'w')\n",
    "f.close()"
   ]
  },
  {
   "cell_type": "code",
   "execution_count": 4,
   "metadata": {
    "collapsed": true
   },
   "outputs": [],
   "source": [
    "f = open('./txts/Theotherfile.txt', 'w')\n",
    "f.close()"
   ]
  },
  {
   "cell_type": "code",
   "execution_count": 5,
   "metadata": {
    "collapsed": true
   },
   "outputs": [],
   "source": [
    "f = open('./Newfile.txt', 'a')\n",
    "for i in range(1, 10+1):\n",
    "    text = \"line %d \\n\" % i\n",
    "    f.write(text)\n",
    "f.close()"
   ]
  },
  {
   "cell_type": "code",
   "execution_count": 6,
   "metadata": {},
   "outputs": [
    {
     "name": "stdout",
     "output_type": "stream",
     "text": [
      "line 1 \n",
      "\n"
     ]
    }
   ],
   "source": [
    "f = open('./Newfile.txt', 'r')\n",
    "text = f.readline()\n",
    "print(text)\n",
    "f.close()"
   ]
  },
  {
   "cell_type": "code",
   "execution_count": 9,
   "metadata": {},
   "outputs": [
    {
     "name": "stdout",
     "output_type": "stream",
     "text": [
      "['line 1 \\n', 'line 2 \\n', 'line 3 \\n', 'line 4 \\n', 'line 5 \\n', 'line 6 \\n', 'line 7 \\n', 'line 8 \\n', 'line 9 \\n', 'line 10 \\n']\n"
     ]
    }
   ],
   "source": [
    "f = open('./Newfile.txt', 'r')\n",
    "texts = f.readlines()\n",
    "print(texts)\n",
    "f.close()"
   ]
  },
  {
   "cell_type": "code",
   "execution_count": 12,
   "metadata": {
    "scrolled": true
   },
   "outputs": [
    {
     "name": "stdout",
     "output_type": "stream",
     "text": [
      "line 1 \n",
      "line 2 \n",
      "line 3 \n",
      "line 4 \n",
      "line 5 \n",
      "line 6 \n",
      "line 7 \n",
      "line 8 \n",
      "line 9 \n",
      "line 10 \n"
     ]
    }
   ],
   "source": [
    "f = open('./Newfile.txt', 'r')\n",
    "texts = f.readlines()\n",
    "for text in texts: \n",
    "    print(text.strip('\\n'))\n",
    "f.close()"
   ]
  },
  {
   "cell_type": "code",
   "execution_count": 13,
   "metadata": {
    "collapsed": true
   },
   "outputs": [],
   "source": [
    "f = open('./Newfile.txt', 'a')\n",
    "for i in range(11, 20+1):\n",
    "    text = \"New line %d \\n\" % i\n",
    "    f.write(text)\n",
    "f.close()"
   ]
  },
  {
   "cell_type": "code",
   "execution_count": 14,
   "metadata": {
    "collapsed": true
   },
   "outputs": [],
   "source": [
    "with open('./foo.txt', 'w') as f:\n",
    "    f.write(\"This is foo.txt. Hooray!! \\n\")"
   ]
  },
  {
   "cell_type": "markdown",
   "metadata": {},
   "source": [
    "# Web Scraping"
   ]
  },
  {
   "cell_type": "code",
   "execution_count": 18,
   "metadata": {
    "collapsed": true
   },
   "outputs": [],
   "source": [
    "from bs4 import BeautifulSoup\n",
    "import urllib"
   ]
  },
  {
   "cell_type": "code",
   "execution_count": 17,
   "metadata": {},
   "outputs": [
    {
     "name": "stdout",
     "output_type": "stream",
     "text": [
      "<html>\n",
      " <head>\n",
      " </head>\n",
      " <body>\n",
      "  <h1>\n",
      "   Home\n",
      "  </h1>\n",
      "  <p>\n",
      "   Hi,there\n",
      "  </p>\n",
      " </body>\n",
      "</html>\n"
     ]
    }
   ],
   "source": [
    "html = \"<html><head></head><body><h1>Home</h1><p>Hi,there</p></body></html>\"\n",
    "soup = BeautifulSoup(html, \"html.parser\")\n",
    "\n",
    "print(soup.prettify())"
   ]
  },
  {
   "cell_type": "code",
   "execution_count": 21,
   "metadata": {},
   "outputs": [],
   "source": [
    "from bs4 import BeautifulSoup\n",
    "import urllib\n",
    "\n",
    "url = \"https://www.rottentomatoes.com/\"\n",
    "html = urllib.request.urlopen(url)\n",
    "source = html.read()\n",
    "html.close()"
   ]
  },
  {
   "cell_type": "code",
   "execution_count": 26,
   "metadata": {},
   "outputs": [
    {
     "name": "stdout",
     "output_type": "stream",
     "text": [
      "39% The Hitman's Bodyguard \n",
      "                    $21.4M\n",
      "67% Annabelle: Creation \n",
      "                    $15.7M\n",
      "94% Logan Lucky \n",
      "                    $7.7M\n",
      "93% Dunkirk \n",
      "                    $6.7M\n",
      "11% The Nut Job 2: Nutty by Nature \n",
      "                    $5.1M\n",
      "8% The Emoji Movie \n",
      "                    $4.5M\n",
      "92% Spider-Man: Homecoming \n",
      "                    $4.3M\n",
      "88% Girls Trip \n",
      "                    $4M\n",
      "16% The Dark Tower \n",
      "                    $3.8M\n",
      "85% Wind River \n",
      "                    $3M\n"
     ]
    }
   ],
   "source": [
    "soup = BeautifulSoup(source, \"html.parser\")\n",
    "table = soup.find(id=\"Top-Box-Office\")\n",
    "\n",
    "all_tr = table.find_all(\"tr\")\n",
    "\n",
    "for tr in all_tr:\n",
    "    all_td = tr.find_all(\"td\")\n",
    "    score = all_td[0].find(\"span\", attrs = {\"class\":\"tMeterScore\"}).text\n",
    "    movie_name = all_td[1].a.text\n",
    "    amount = all_td[2].a.text\n",
    "    \n",
    "    print(score, movie_name, amount)"
   ]
  },
  {
   "cell_type": "code",
   "execution_count": null,
   "metadata": {
    "collapsed": true
   },
   "outputs": [],
   "source": []
  },
  {
   "cell_type": "code",
   "execution_count": null,
   "metadata": {
    "collapsed": true
   },
   "outputs": [],
   "source": []
  },
  {
   "cell_type": "code",
   "execution_count": null,
   "metadata": {
    "collapsed": true
   },
   "outputs": [],
   "source": []
  },
  {
   "cell_type": "code",
   "execution_count": null,
   "metadata": {
    "collapsed": true
   },
   "outputs": [],
   "source": []
  }
 ],
 "metadata": {
  "kernelspec": {
   "display_name": "Python 3",
   "language": "python",
   "name": "python3"
  },
  "language_info": {
   "codemirror_mode": {
    "name": "ipython",
    "version": 3
   },
   "file_extension": ".py",
   "mimetype": "text/x-python",
   "name": "python",
   "nbconvert_exporter": "python",
   "pygments_lexer": "ipython3",
   "version": "3.6.1"
  }
 },
 "nbformat": 4,
 "nbformat_minor": 2
}
